{
  "nbformat": 4,
  "nbformat_minor": 0,
  "metadata": {
    "colab": {
      "provenance": []
    },
    "kernelspec": {
      "name": "python3",
      "display_name": "Python 3"
    },
    "language_info": {
      "name": "python"
    }
  },
  "cells": [
    {
      "cell_type": "code",
      "execution_count": 2,
      "metadata": {
        "colab": {
          "base_uri": "https://localhost:8080/"
        },
        "id": "MEzEvA0TbFMj",
        "outputId": "1b56adf0-7981-43c5-c938-907847c457b6"
      },
      "outputs": [
        {
          "output_type": "stream",
          "name": "stdout",
          "text": [
            "==\n",
            "CHANGELOG\n",
            "This notebook was last run on Apr 07, 2023\n",
            "==\n"
          ]
        }
      ],
      "source": [
        "import datetime\n",
        "print(\"==\\nCHANGELOG\\nThis notebook was last run on %s\\n==\" % datetime.date.today().strftime('%b %d, %Y'))"
      ]
    },
    {
      "cell_type": "code",
      "source": [
        "# Shuffle training dataframe\n",
        "#data_df = data_df.sample(frac=1, random_state=42) # shuffle with random_state=42 for reproducibility\n",
        "#data_df.head()"
      ],
      "metadata": {
        "id": "zA-1TdZIbJ3b"
      },
      "execution_count": 3,
      "outputs": []
    },
    {
      "cell_type": "code",
      "source": [
        "import numpy as np\n",
        "\n",
        "random_int = np.random.randint(0, 10)\n",
        "print(random_int)\n",
        "\n",
        "\n",
        "import numpy as np\n",
        "\n",
        "random_ints = np.random.randint(1, 7, size=10)\n",
        "print(random_ints)"
      ],
      "metadata": {
        "colab": {
          "base_uri": "https://localhost:8080/"
        },
        "id": "oXYhwgjVq9oJ",
        "outputId": "d169b7f6-2632-4a5c-f7e3-14c754083076"
      },
      "execution_count": 11,
      "outputs": [
        {
          "output_type": "stream",
          "name": "stdout",
          "text": [
            "3\n",
            "[6 1 5 6 4 5 1 2 4 5]\n"
          ]
        }
      ]
    },
    {
      "cell_type": "code",
      "source": [
        "import pandas as pd\n",
        "\n",
        "# create a sample dataframe\n",
        "data = {'name': ['John', 'Peter', 'Amy', 'Mary'],\n",
        "        'age': [25, 30, 20, 35],\n",
        "        'country': ['USA', 'Canada', 'Australia', 'UK']}\n",
        "df = pd.DataFrame(data)\n",
        "\n",
        "# select the second row and the 'age' column using iloc\n",
        "age_of_peter = df.iloc[0]['age']\n",
        "print(age_of_peter)\n"
      ],
      "metadata": {
        "colab": {
          "base_uri": "https://localhost:8080/"
        },
        "id": "thOygkz3s1jN",
        "outputId": "aed36075-2870-4537-f6ff-269691dd5d45"
      },
      "execution_count": 13,
      "outputs": [
        {
          "output_type": "stream",
          "name": "stdout",
          "text": [
            "25\n"
          ]
        }
      ]
    },
    {
      "cell_type": "code",
      "source": [
        "import pandas as pd\n",
        "\n",
        "# create a sample dataframe\n",
        "data = {'name': ['John', 'Peter', 'Amy', 'Mary'],\n",
        "        'age': [25, 30, 20, 35],\n",
        "        'country': ['USA', 'Canada', 'Australia', 'UK']}\n",
        "df = pd.DataFrame(data)\n",
        "\n",
        "# select the first two rows and all columns using iloc\n",
        "first_two_rows = df.iloc[0:2, :]\n",
        "print(first_two_rows)\n"
      ],
      "metadata": {
        "colab": {
          "base_uri": "https://localhost:8080/"
        },
        "id": "r9Id461qtCqv",
        "outputId": "47570b1a-5f5c-479b-e217-3379eef7a08f"
      },
      "execution_count": 14,
      "outputs": [
        {
          "output_type": "stream",
          "name": "stdout",
          "text": [
            "    name  age country\n",
            "0   John   25     USA\n",
            "1  Peter   30  Canada\n"
          ]
        }
      ]
    },
    {
      "cell_type": "code",
      "source": [
        "\"\"\"\n",
        "import re\n",
        "X = [re.sub('http://\\S+|https://\\S+', '', text) for text in data_df['tweet']]\n",
        "y = data_df['Toxicity'].values\n",
        "\"\"\""
      ],
      "metadata": {
        "colab": {
          "base_uri": "https://localhost:8080/",
          "height": 35
        },
        "id": "E83JqRdztDcy",
        "outputId": "0d849eff-ef20-47d5-88e6-0822f9510cf4"
      },
      "execution_count": 16,
      "outputs": [
        {
          "output_type": "execute_result",
          "data": {
            "text/plain": [
              "\"\\nimport re\\nX = [re.sub('http://\\\\S+|https://\\\\S+', '', text) for text in data_df['tweet']]\\ny = data_df['Toxicity'].values\\n\""
            ],
            "application/vnd.google.colaboratory.intrinsic+json": {
              "type": "string"
            }
          },
          "metadata": {},
          "execution_count": 16
        }
      ]
    },
    {
      "cell_type": "code",
      "source": [
        "\"\"\"\n",
        "\n",
        "from sklearn.model_selection import train_test_split\n",
        "\n",
        "# Use train_test_split to split training data into training and validation sets\n",
        "train_sentences, val_sentences, train_labels, val_labels = train_test_split(np.array(X),\n",
        "                                                                            np.array(y),\n",
        "                                                                            test_size=0.1, # dedicate 10% of samples to validation set\n",
        "                                                                            random_state=42) # random state for reproducibility\n",
        "\n",
        "\"\"\""
      ],
      "metadata": {
        "id": "U4IHjwLLvS0l"
      },
      "execution_count": null,
      "outputs": []
    },
    {
      "cell_type": "code",
      "source": [],
      "metadata": {
        "id": "Z8T8ITeYvprM"
      },
      "execution_count": null,
      "outputs": []
    }
  ]
}